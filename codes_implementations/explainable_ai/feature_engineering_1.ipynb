{
 "cells": [
  {
   "cell_type": "markdown",
   "id": "8e82f53b",
   "metadata": {},
   "source": [
    "## Feature Engineering"
   ]
  },
  {
   "cell_type": "code",
   "execution_count": null,
   "id": "3f8fb3b5",
   "metadata": {},
   "outputs": [],
   "source": [
    "import pandas as pd\n",
    "import numpy as np\n",
    "import matplotlib.pyplot as plt\n",
    "import statsmodels.api as sm"
   ]
  },
  {
   "cell_type": "code",
   "execution_count": null,
   "id": "51999271",
   "metadata": {},
   "outputs": [],
   "source": [
    "credit_score=pd.read_csv(\"data/credit_score.csv\")\n",
    "\n",
    "# Display max 6 columns\n",
    "pd.set_option('display.max_columns', 10)\n",
    "credit_score.head()"
   ]
  },
  {
   "cell_type": "markdown",
   "id": "021cfbb8",
   "metadata": {},
   "source": [
    "### Linear Relationships"
   ]
  },
  {
   "cell_type": "code",
   "execution_count": null,
   "id": "3b31e08f",
   "metadata": {},
   "outputs": [],
   "source": [
    "plt.figure(figsize=(10, 6))\n",
    "plt.scatter(credit_score[\"R_DEBT_INCOME\"], credit_score[\"CREDIT_SCORE\"])\n",
    "plt.xlabel(\"Ratio of Debt to Income \\n(R_DEBT_INCOME)\", size=15)\n",
    "plt.ylabel(\"Credit Score\", size=15)"
   ]
  },
  {
   "cell_type": "code",
   "execution_count": null,
   "id": "b3577459",
   "metadata": {},
   "outputs": [],
   "source": [
    "# Select features and target\n",
    "x=credit_score[[\"INCOME\", \"R_DEBT_INCOME\"]] \n",
    "y=credit_score[\"CREDIT_SCORE\"]\n",
    "\n",
    "# Fit regression model\n",
    "x=sm.add_constant(x)\n",
    "# Creates an OLS(Ordinary Least Squares) regression object with y as the dependent variable (endog) and x as the independent variables (exog)\n",
    "model=sm.OLS(y, x).fit()\n",
    "\n",
    "print(model.summary())"
   ]
  },
  {
   "cell_type": "markdown",
   "id": "ad9e125d",
   "metadata": {},
   "source": [
    "### Reformulating Linear Relationships"
   ]
  },
  {
   "cell_type": "code",
   "execution_count": null,
   "id": "23c8395b",
   "metadata": {},
   "outputs": [],
   "source": [
    "# Add entertainment ratio to features\n",
    "x[\"R_ENTERTAINMENT_INV\"]=credit_score[\"T_ENTERTAINMENT_12\"]/credit_score[\"T_ENTERTAINMENT_6\"]\n",
    "x[\"R_ENTERTAINMENT_INV\"]=x[\"R_ENTERTAINMENT_INV\"].fillna(x[\"R_ENTERTAINMENT_INV\"].mean())\n",
    "\n",
    "y=credit_score[\"CREDIT_SCORE\"]\n",
    "\n",
    "# Fit the regression model\n",
    "x=sm.add_constant(x)\n",
    "model=sm.OLS(y, x).fit()\n",
    "\n",
    "print(model.summary())"
   ]
  },
  {
   "cell_type": "code",
   "execution_count": null,
   "id": "40283666",
   "metadata": {},
   "outputs": [],
   "source": [
    "# Inverse Ratio\n",
    "credit_score[\"T_ENTERTAINMENT_6\"]/credit_score[\"T_ENTERTAINMENT_12\"]\n",
    "\n",
    "# Alternate Ratio\n",
    "credit_score[\"T_ENTERTAINMENT_6\"]/(credit_score[\"T_ENTERTAINMENT_12\"]-credit_score[\"T_ENTERTAINMENT_6\"])"
   ]
  },
  {
   "cell_type": "code",
   "execution_count": null,
   "id": "603dd058",
   "metadata": {},
   "outputs": [],
   "source": [
    "x=credit_score[[\"INCOME\", \"R_DEBT_INCOME\", \"R_ENTERTAINMENT\"]]\n",
    "y=credit_score[\"CREDIT_SCORE\"]\n",
    "\n",
    "x=sm.add_constant(x)\n",
    "model=sm.OLS(y, x).fit()\n",
    "\n",
    "print(model.summary())"
   ]
  },
  {
   "cell_type": "markdown",
   "id": "7a4c2ae6",
   "metadata": {},
   "source": [
    "- Relative increase in expenditure on entertainment leads to a decrease in credit score.\n",
    "\n",
    "- `R_ENTERTAINMENT=T_ENTERTAINMENT_6/T_ENTERTAINMENT_12`"
   ]
  },
  {
   "cell_type": "markdown",
   "id": "c80a5921",
   "metadata": {},
   "source": [
    "### Polynomial Regression"
   ]
  },
  {
   "cell_type": "code",
   "execution_count": null,
   "id": "ed24ff89",
   "metadata": {},
   "outputs": [],
   "source": [
    "x=credit_score[[\"INCOME\", \"R_DEBT_INCOME\", \"R_ENTERTAINMENT\", \"R_EXPENDITURE\"]]\n",
    "x[\"R_EXPENDITURE_SQR\"]=credit_score[\"R_EXPENDITURE\"]**2\n",
    "y=credit_score[\"CREDIT_SCORE\"]\n",
    "\n",
    "x=sm.add_constant(x)\n",
    "model=sm.OLS(y, x).fit()\n",
    "\n",
    "print(model.summary())"
   ]
  },
  {
   "cell_type": "markdown",
   "id": "73f66300",
   "metadata": {},
   "source": [
    "### Discretization\n",
    "\n",
    "- Converting categorical features to continuous features in order to capture complex non-linear relationships."
   ]
  },
  {
   "cell_type": "code",
   "execution_count": null,
   "id": "098e247f",
   "metadata": {},
   "outputs": [],
   "source": [
    "x[\"GAMBLING_LOW\"]=credit_score[\"CAT_GAMBLING\"].apply(lambda x: 1 if x==\"Low\" else 0)\n",
    "x[\"GAMBLING_HIGH\"]=credit_score[\"CAT_GAMBLING\"].apply(lambda x: 1 if x==\"High\" else 0)\n",
    "y=credit_score[\"CREDIT_SCORE\"]\n",
    "\n",
    "x=sm.add_constant(x)\n",
    "model=sm.OLS(y, x).fit()\n",
    "\n",
    "print(model.summary())"
   ]
  },
  {
   "cell_type": "markdown",
   "id": "fb3b3750",
   "metadata": {},
   "source": [
    "### Interactions"
   ]
  },
  {
   "cell_type": "code",
   "execution_count": null,
   "id": "40b2fb82",
   "metadata": {},
   "outputs": [],
   "source": [
    "# Add interaction term to features\n",
    "x=credit_score[[\"INCOME\", \"DEBT\"]]\n",
    "x[\"INCOME.DEBT\"]=x[\"INCOME\"]*x[\"DEBT\"]\n",
    "y=credit_score[\"CREDIT_SCORE\"]\n",
    "\n",
    "x=sm.add_constant(x)\n",
    "model=sm.OLS(y, x).fit()\n",
    "\n",
    "print(model.summary())"
   ]
  },
  {
   "cell_type": "code",
   "execution_count": null,
   "id": "d90e69b2",
   "metadata": {},
   "outputs": [],
   "source": [
    "plt.scatter(credit_score[\"INCOME\"],\n",
    "            credit_score[\"DEBT\"],\n",
    "            credit_score[\"CREDIT_SCORE\"], cmap=\"bwr\")\n",
    "plt.colorbar(label=\"Credit Score\", orientation=\"vertical\")\n",
    "\n",
    "plt.xlabel(\"Income\", size=10)\n",
    "plt.ylabel(\"Debt\", size=10)"
   ]
  }
 ],
 "metadata": {
  "kernelspec": {
   "display_name": "Python 3",
   "language": "python",
   "name": "python3"
  },
  "language_info": {
   "codemirror_mode": {
    "name": "ipython",
    "version": 3
   },
   "file_extension": ".py",
   "mimetype": "text/x-python",
   "name": "python",
   "nbconvert_exporter": "python",
   "pygments_lexer": "ipython3",
   "version": "3.12.10"
  }
 },
 "nbformat": 4,
 "nbformat_minor": 5
}
