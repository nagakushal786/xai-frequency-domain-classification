{
 "cells": [
  {
   "cell_type": "markdown",
   "id": "faaad21b",
   "metadata": {},
   "source": [
    "## FFT for Image Classification"
   ]
  },
  {
   "cell_type": "markdown",
   "id": "32cb8479",
   "metadata": {},
   "source": [
    "### Image transformation - Spatial to Frequency Domain"
   ]
  },
  {
   "cell_type": "code",
   "execution_count": null,
   "id": "72b0a223",
   "metadata": {},
   "outputs": [],
   "source": [
    "import numpy as np\n",
    "import matplotlib.pyplot as plt\n",
    "from PIL import Image\n",
    "\n",
    "image_path='cats.jpg'\n",
    "\n",
    "# Loading the image from given path\n",
    "img=Image.open(image_path)\n",
    "# Converting the image into gray-scale\n",
    "img_gray=np.array(img.convert('L'))\n",
    "\n",
    "# Computing FFT\n",
    "\n",
    "# Applying 2D FFT to gray scale image to convert it into frequency domain\n",
    "fft_image=np.fft.fft2(img_gray)\n",
    "# Shifting the zero frequency component (DC) to the center\n",
    "# FFT puts low frequencies at corners, so shift makes visualization clear\n",
    "fft_image_shifted=np.fft.fftshift(fft_image)\n",
    "\n",
    "# Computing magnitude spectrum\n",
    "\n",
    "# np.abs(fshift): get the magnitude of the complex numbers (ignore phase)\n",
    "# np.log(...): apply logarithm to reduce the wide range of values for better visualization\n",
    "# +1: to avoid log(0), which would give negative infinity\n",
    "# Multiply by 20: a scaling factor (common in frequency spectrum visualization)\n",
    "magnitude_spectrum=20*np.log(np.abs(fft_image_shifted)+1)\n",
    "\n",
    "# Displaying original image and magnitude spectrum\n",
    "plt.figure(figsize=(12, 6))\n",
    "\n",
    "plt.subplot(121), plt.imshow(img_gray, cmap='gray'), plt.title(\"Original Image\")\n",
    "plt.subplot(122), plt.imshow(magnitude_spectrum, cmap='gray'), plt.title(\"Magnitude Spectrum\")\n",
    "plt.show()"
   ]
  },
  {
   "cell_type": "markdown",
   "id": "6ca4e3a8",
   "metadata": {},
   "source": [
    "### Low Pass Filter"
   ]
  },
  {
   "cell_type": "code",
   "execution_count": null,
   "id": "140b85ad",
   "metadata": {},
   "outputs": [],
   "source": [
    "# Creating a mask with a low-pass filter\n",
    "rows, cols=img_gray.shape\n",
    "c_row, c_col=rows//2, cols//2\n",
    "mask=np.zeros((rows, cols), np.uint8)\n",
    "mask[c_row-30:c_row+30, c_col-30:c_col+30]=1\n",
    "\n",
    "f_shift_masked=fft_image_shifted*mask\n",
    "\n",
    "# Move zero-frequency back to the original position\n",
    "f_ishift=np.fft.ifftshift(f_shift_masked)\n",
    "\n",
    "# Apply inverse FFT to get back spatial domain\n",
    "image_filtered=np.fft.ifft2(f_ishift)\n",
    "# Take only magnitude to discard imaginary part\n",
    "image_filtered=np.abs(image_filtered)\n",
    "\n",
    "plt.imshow(image_filtered, cmap='gray')\n",
    "plt.title(\"Low-Pass Image\")\n",
    "plt.show()"
   ]
  },
  {
   "cell_type": "markdown",
   "id": "b77c314f",
   "metadata": {},
   "source": [
    "### High Pass Filter"
   ]
  },
  {
   "cell_type": "code",
   "execution_count": null,
   "id": "aceec08c",
   "metadata": {},
   "outputs": [],
   "source": [
    "rows, cols=img_gray.shape\n",
    "c_row, c_col=rows//2, cols//2\n",
    "mask=np.ones((rows, cols), np.uint8)\n",
    "mask[c_row-30:c_row+30, c_col-30:c_col+30]=0\n",
    "\n",
    "fft_shifted_masked=fft_image_shifted*mask\n",
    "f_ishift=np.fft.ifftshift(fft_shifted_masked)\n",
    "\n",
    "image_filtered=np.fft.ifft2(f_ishift)\n",
    "image_filtered=np.abs(image_filtered)\n",
    "\n",
    "plt.imshow(image_filtered, cmap='gray')\n",
    "plt.title(\"High-Pass Image\")\n",
    "plt.show()"
   ]
  },
  {
   "cell_type": "markdown",
   "id": "3a24702b",
   "metadata": {},
   "source": [
    "### Image Compression"
   ]
  },
  {
   "cell_type": "code",
   "execution_count": null,
   "id": "3ab2eeb1",
   "metadata": {},
   "outputs": [],
   "source": [
    "# Zero out small frequencies to compress the image\n",
    "\n",
    "# Low threshold - keep more details (less compression)\n",
    "# High threshold - keep only strong structures (more compression)\n",
    "\n",
    "# Take threshold as 10% of maximum frequency magnitude\n",
    "threshold=0.1*np.max(np.abs(fft_image_shifted))\n",
    "fshift_compressed=np.where(np.abs(fft_image_shifted)>threshold, fft_image_shifted, 0)\n",
    "\n",
    "f_ishift=np.fft.ifftshift(fshift_compressed)\n",
    "compressed_image=np.fft.ifft2(f_ishift)\n",
    "compressed_image=np.abs(compressed_image)\n",
    "\n",
    "plt.imshow(compressed_image, cmap='gray')\n",
    "plt.title(\"Compressed Image\")\n",
    "plt.show()"
   ]
  },
  {
   "cell_type": "markdown",
   "id": "893fff66",
   "metadata": {},
   "source": [
    "### Edge Detection"
   ]
  },
  {
   "cell_type": "code",
   "execution_count": null,
   "id": "d9db0907",
   "metadata": {},
   "outputs": [],
   "source": [
    "# Laplacian filter for edge detection in frequency domain\n",
    "\n",
    "rows,cols=img_gray.shape\n",
    "# These will be useful for padding the Laplacian filter so it aligns with the image size\n",
    "c_row, c_col=rows//2, cols//2\n",
    "\n",
    "# Spatial Domain Laplacian Kernel (3x3)\n",
    "# Emphasizes regions of rapid intensity change (edges) by computing the second derivative of the image\n",
    "laplacian=np.array([[0, 1, 0],\n",
    "                    [1, -4, 1],\n",
    "                    [0, 1, 0]])\n",
    "# Pad the Laplacian kernel to match the size of the image\n",
    "laplacian=np.pad(laplacian,\n",
    "                 [(c_row-1, rows-c_row-2), (c_col-1, cols-c_col-2)],\n",
    "                 mode='constant')\n",
    "\n",
    "fft_laplacian=np.fft.fft2(laplacian)\n",
    "# Convolution in spatial domain = Multiplication in frequency domain\n",
    "filtered_img=fft_image*fft_laplacian\n",
    "\n",
    "image_edge=np.fft.ifft2(filtered_img)\n",
    "image_edge=np.abs(image_edge)\n",
    "\n",
    "plt.imshow(image_edge, cmap='gray')\n",
    "plt.title(\"Edge Detected Image\")\n",
    "plt.show()"
   ]
  },
  {
   "cell_type": "markdown",
   "id": "c0aec445",
   "metadata": {},
   "source": [
    "### Pattern Detection"
   ]
  },
  {
   "cell_type": "code",
   "execution_count": null,
   "id": "5e5502f3",
   "metadata": {},
   "outputs": [],
   "source": [
    "import requests\n",
    "from io import BytesIO\n",
    "\n",
    "template_url=\"https://encrypted-tbn0.gstatic.com/images?q=tbn:ANd9GcT-xwX0-p5UlqDFP1hOnU9uGU5yV0hbXhZEmL_jpJINqgxpOw4uzh5Wg6Y5&s\"\n",
    "\n",
    "response_template=requests.get(template_url)\n",
    "template_data=response_template.content\n",
    "template_pil=Image.open(BytesIO(template_data)).convert('L')\n",
    "\n",
    "template=np.array(template_pil)\n",
    "template_fft=np.fft.fft2(template, s=img_gray.shape)\n",
    "\n",
    "# Cross-correlation in frequency domain\n",
    "# Correlation in spatial domain = Multilication with conjugate in frequency domain\n",
    "correlation=np.fft.ifft2(fft_image*np.conj(template_fft))\n",
    "correlation=np.abs(correlation)\n",
    "\n",
    "threshold=0.8*np.max(correlation)\n",
    "\n",
    "# Check if the template is significantly present\n",
    "if np.any(correlation>threshold):\n",
    "    # If any pixel in correlation map exceeds threshold → strong match found\n",
    "    print(\"Pattern detected\")\n",
    "else:\n",
    "    print(\"Pattern not detected\")"
   ]
  },
  {
   "cell_type": "markdown",
   "id": "21274641",
   "metadata": {},
   "source": [
    "### Blur Detection"
   ]
  },
  {
   "cell_type": "code",
   "execution_count": null,
   "id": "f2e32418",
   "metadata": {},
   "outputs": [],
   "source": [
    "magnitude_spectrum=np.log(np.abs(fft_image_shifted)+1)\n",
    "\n",
    "# Measure high frequency energy\n",
    "# np.percentile(..., 99): finds intensity cutoff at the top 1% of frequency values (very high frequencies)\n",
    "# magnitude_spectrum > that cutoff: creates a mask of \"strong high-frequency components\"\n",
    "# np.sum(...): counts how many high-frequency values exist (measures edge/detail content)\n",
    "\n",
    "high_freq_energy=np.sum(magnitude_spectrum>np.percentile(magnitude_spectrum, 99))\n",
    "\n",
    "threshold=1000\n",
    "# If high-frequency energy is below this → image lacks details → blurred\n",
    "\n",
    "if high_freq_energy<threshold:\n",
    "    print(\"Image is blurred\")\n",
    "else:\n",
    "    print(\"Image is sharp\")"
   ]
  }
 ],
 "metadata": {
  "kernelspec": {
   "display_name": "Python 3",
   "language": "python",
   "name": "python3"
  },
  "language_info": {
   "codemirror_mode": {
    "name": "ipython",
    "version": 3
   },
   "file_extension": ".py",
   "mimetype": "text/x-python",
   "name": "python",
   "nbconvert_exporter": "python",
   "pygments_lexer": "ipython3",
   "version": "3.12.10"
  }
 },
 "nbformat": 4,
 "nbformat_minor": 5
}
