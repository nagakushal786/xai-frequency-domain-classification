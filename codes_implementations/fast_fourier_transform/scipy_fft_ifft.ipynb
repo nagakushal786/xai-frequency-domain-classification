{
 "cells": [
  {
   "cell_type": "markdown",
   "id": "f4df862f",
   "metadata": {},
   "source": [
    "## Scipy FFT and IFFT"
   ]
  },
  {
   "cell_type": "code",
   "execution_count": null,
   "id": "5d5aaf7d",
   "metadata": {},
   "outputs": [],
   "source": [
    "from scipy.fft import fft, ifft\n",
    "import numpy as np"
   ]
  },
  {
   "cell_type": "code",
   "execution_count": null,
   "id": "fee4b5d4",
   "metadata": {},
   "outputs": [],
   "source": [
    "x=np.array([1.0, -3.5, 3.4, 1.6])\n",
    "fft_array=fft(x)\n",
    "print(f'FFT array: {fft_array}')"
   ]
  },
  {
   "cell_type": "code",
   "execution_count": null,
   "id": "437260be",
   "metadata": {},
   "outputs": [],
   "source": [
    "ifft_array=ifft(x)\n",
    "print(f'IFFT array: {ifft_array}')"
   ]
  },
  {
   "cell_type": "code",
   "execution_count": null,
   "id": "bf94d243",
   "metadata": {},
   "outputs": [],
   "source": [
    "fft_to_ifft_array=ifft(fft_array)\n",
    "print(f'FFT to IFFT array: {fft_to_ifft_array}')"
   ]
  }
 ],
 "metadata": {
  "kernelspec": {
   "display_name": "Python 3",
   "language": "python",
   "name": "python3"
  },
  "language_info": {
   "codemirror_mode": {
    "name": "ipython",
    "version": 3
   },
   "file_extension": ".py",
   "mimetype": "text/x-python",
   "name": "python",
   "nbconvert_exporter": "python",
   "pygments_lexer": "ipython3",
   "version": "3.12.10"
  }
 },
 "nbformat": 4,
 "nbformat_minor": 5
}
