{
 "cells": [
  {
   "cell_type": "markdown",
   "id": "f9c2a2de",
   "metadata": {},
   "source": [
    "## Numpy FFT"
   ]
  },
  {
   "cell_type": "code",
   "execution_count": null,
   "id": "933eec71",
   "metadata": {},
   "outputs": [],
   "source": [
    "import numpy as np\n",
    "import matplotlib.pyplot as plt"
   ]
  },
  {
   "cell_type": "markdown",
   "id": "115303e3",
   "metadata": {},
   "source": [
    "### Constructing a Time Signal"
   ]
  },
  {
   "cell_type": "code",
   "execution_count": null,
   "id": "7c140083",
   "metadata": {},
   "outputs": [],
   "source": [
    "# Sampling frequency\n",
    "Fs=2000\n",
    "# Sampling time interval\n",
    "t_step=1/Fs\n",
    "# Signal frequency\n",
    "f0=100\n",
    "# Number of samples\n",
    "N=int(Fs/f0)\n",
    "\n",
    "# Time steps\n",
    "t=np.linspace(0, (N-1)*t_step, N)\n",
    "# Frequency interval\n",
    "f_step=Fs/N\n",
    "# Frequency steps\n",
    "f=np.linspace(0, (N-1)*f_step, N)\n",
    "\n",
    "y=1*np.sin(2*np.pi*f0*t)"
   ]
  },
  {
   "cell_type": "markdown",
   "id": "10bc3ec9",
   "metadata": {},
   "source": [
    "### Performing FFT"
   ]
  },
  {
   "cell_type": "code",
   "execution_count": null,
   "id": "4d8a1708",
   "metadata": {},
   "outputs": [],
   "source": [
    "np.set_printoptions(precision=3)\n",
    "\n",
    "x=np.fft.fft(y)\n",
    "print(f'Complex valued frequency domain:\\n{x}\\n')\n",
    "x_abs=np.abs(x)\n",
    "print(f'Absolute value of frequency domain:\\n{x_abs}\\n')\n",
    "x_mag=x_abs/N\n",
    "print(f'Normalized magnitude of frequency domain:\\n{x_mag}\\n')"
   ]
  },
  {
   "cell_type": "markdown",
   "id": "7fdf17bd",
   "metadata": {},
   "source": [
    "#### Nyquist Theorem (a.k.a Nyquist–Shannon Sampling Theorem)\n",
    "\n",
    "This is the key idea behind why you only need **half the spectrum**.\n",
    "\n",
    "* **Statement:**\n",
    "  To reconstruct a signal without aliasing, the sampling frequency `Fs` must be **at least twice the highest frequency** in the signal:\n",
    "\n",
    "  $$\n",
    "  F_s \\geq 2 f_{\\text{max}}\n",
    "  $$\n",
    "\n",
    "  where `f_max` is the maximum frequency present in the signal.\n",
    "\n",
    "* **Nyquist frequency:**\n",
    "  Half of the sampling frequency:\n",
    "\n",
    "  $$\n",
    "  f_{\\text{Nyquist}} = \\frac{F_s}{2}\n",
    "  $$\n",
    "\n",
    "  Any frequency component above this would **alias** (fold back into the spectrum and distort the result).\n",
    "\n",
    "---\n",
    "\n",
    "#### How this affects our code\n",
    "\n",
    "* Since your sampling frequency `Fs = 2000 Hz`, the **Nyquist frequency** is:\n",
    "\n",
    "  $$\n",
    "  f_{\\text{Nyquist}} = 2000 / 2 = 1000 \\text{ Hz}\n",
    "  $$\n",
    "\n",
    "* Your sine signal has `f0 = 100 Hz`, which is well below Nyquist. ✅\n",
    "  So it can be represented correctly in the sampled/FFT domain.\n",
    "\n",
    "* The **FFT returns values up to Fs (2000 Hz)**, but due to symmetry, you only need values up to Nyquist (1000 Hz). That’s why you slice the array to keep the first `N/2+1` samples.\n",
    "\n",
    "---"
   ]
  },
  {
   "cell_type": "code",
   "execution_count": null,
   "id": "ca851b31",
   "metadata": {},
   "outputs": [],
   "source": [
    "f_plot=f[0:int(N/2+1)]\n",
    "x_mag_plot=x_mag[0:int(N/2+1)]\n",
    "x_mag_plot[0]=x_mag_plot[0]/2"
   ]
  },
  {
   "cell_type": "markdown",
   "id": "f29ed2c0",
   "metadata": {},
   "source": [
    "* `f[0:int(N/2+1)]` → FFT of a real signal is **symmetric** about half the sampling frequency (`Fs/2`).\n",
    "  So you only need the **first half** of the spectrum (positive frequencies). The rest is just a mirror.\n",
    "\n",
    "* `x_mag[0:int(N/2+1)]` → same logic, keep magnitudes of the positive frequencies only.\n",
    "\n",
    "* `x_mag_plot[0] = x_mag_plot[0]/2` → adjustment for the DC component (at 0 Hz).\n",
    "  When you throw away the mirrored half, the amplitudes of the non-DC bins are often doubled to preserve the signal energy. But since you normalized earlier, here you’re just correcting the scaling for the DC term.\n",
    "\n",
    "#### Summary of the last 3 lines\n",
    "\n",
    "* `f_plot = f[0:int(N/2+1)]` → keep only frequencies up to Nyquist (`0 → Fs/2`).\n",
    "\n",
    "* `x_mag_plot = x_mag[0:int(N/2+1)]` → keep the magnitudes for those frequencies.\n",
    "\n",
    "* `x_mag_plot[0] = x_mag_plot[0]/2` → correct scaling for the DC term when halving the spectrum."
   ]
  },
  {
   "cell_type": "markdown",
   "id": "c55862ea",
   "metadata": {},
   "source": [
    "### Plotting the Signal"
   ]
  },
  {
   "cell_type": "code",
   "execution_count": null,
   "id": "a4b31d4b",
   "metadata": {},
   "outputs": [],
   "source": [
    "fig, [ax1, ax2, ax3]=plt.subplots(nrows=3, ncols=1)\n",
    "ax1.plot(t, y, 'bo-')\n",
    "ax1.set_title('Time Domain Signal')\n",
    "ax1.set_xlabel('Time [s]')\n",
    "ax1.set_ylabel('Amplitude [Hz]')\n",
    "ax1.grid()\n",
    "\n",
    "ax2.plot(f, x_mag, 'ro-')\n",
    "ax2.set_title('Frequency Domain Signal (Full Spectrum)')\n",
    "ax2.set_xlabel('Frequency [Hz]')\n",
    "ax2.set_ylabel('Magnitude [dB]')\n",
    "ax2.grid()\n",
    "\n",
    "ax3.plot(f_plot, x_mag_plot, 'go-')\n",
    "ax3.set_title('Frequency Domain Signal (Positive Frequencies)')\n",
    "ax3.set_xlabel('Frequency [Hz]')\n",
    "ax3.set_ylabel('Magnitude [dB]')\n",
    "ax3.grid()\n",
    "\n",
    "plt.tight_layout()\n",
    "plt.show()"
   ]
  },
  {
   "cell_type": "markdown",
   "id": "e946620e",
   "metadata": {},
   "source": [
    "- We can experiment more by changing the values of `N` and `y` like N=`int(10*Fs/f0)`, y=`1*np.sin(2*np.pi*f0*t)+4*np.sin(2*np.pi*3*f0*t)`, we can observe the changes in time and frequency domains."
   ]
  }
 ],
 "metadata": {
  "kernelspec": {
   "display_name": "Python 3",
   "language": "python",
   "name": "python3"
  },
  "language_info": {
   "codemirror_mode": {
    "name": "ipython",
    "version": 3
   },
   "file_extension": ".py",
   "mimetype": "text/x-python",
   "name": "python",
   "nbconvert_exporter": "python",
   "pygments_lexer": "ipython3",
   "version": "3.12.10"
  }
 },
 "nbformat": 4,
 "nbformat_minor": 5
}
